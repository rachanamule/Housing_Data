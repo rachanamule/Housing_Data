{
 "cells": [
  {
   "cell_type": "code",
   "execution_count": 22,
   "id": "daa7a27c",
   "metadata": {},
   "outputs": [],
   "source": [
    "import pandas as pd\n",
    "from pathlib import Path\n",
    "import matplotlib.pyplot as plt\n",
    "from sklearn.linear_model import LinearRegression\n",
    "import datetime "
   ]
  },
  {
   "cell_type": "code",
   "execution_count": 23,
   "id": "8be1845d",
   "metadata": {},
   "outputs": [
    {
     "data": {
      "text/html": [
       "<div>\n",
       "<style scoped>\n",
       "    .dataframe tbody tr th:only-of-type {\n",
       "        vertical-align: middle;\n",
       "    }\n",
       "\n",
       "    .dataframe tbody tr th {\n",
       "        vertical-align: top;\n",
       "    }\n",
       "\n",
       "    .dataframe thead th {\n",
       "        text-align: right;\n",
       "    }\n",
       "</style>\n",
       "<table border=\"1\" class=\"dataframe\">\n",
       "  <thead>\n",
       "    <tr style=\"text-align: right;\">\n",
       "      <th></th>\n",
       "      <th>City</th>\n",
       "      <th>RegionID</th>\n",
       "      <th>StateName</th>\n",
       "      <th>2017-01-31</th>\n",
       "      <th>2017-02-28</th>\n",
       "      <th>2017-03-31</th>\n",
       "      <th>2017-04-30</th>\n",
       "      <th>2017-05-31</th>\n",
       "      <th>2017-06-30</th>\n",
       "      <th>2017-07-31</th>\n",
       "      <th>...</th>\n",
       "      <th>2020-11-30</th>\n",
       "      <th>2020-12-31</th>\n",
       "      <th>2021-01-31</th>\n",
       "      <th>2021-02-28</th>\n",
       "      <th>2021-03-31</th>\n",
       "      <th>2021-04-30</th>\n",
       "      <th>2021-05-31</th>\n",
       "      <th>2021-06-30</th>\n",
       "      <th>2021-07-31</th>\n",
       "      <th>2021-08-31</th>\n",
       "    </tr>\n",
       "  </thead>\n",
       "  <tbody>\n",
       "    <tr>\n",
       "      <th>0</th>\n",
       "      <td>New York</td>\n",
       "      <td>394913</td>\n",
       "      <td>NY</td>\n",
       "      <td>386000.0</td>\n",
       "      <td>387000.0</td>\n",
       "      <td>387000.0</td>\n",
       "      <td>390333.0</td>\n",
       "      <td>395000.0</td>\n",
       "      <td>406667.0</td>\n",
       "      <td>420000.0</td>\n",
       "      <td>...</td>\n",
       "      <td>468333.0</td>\n",
       "      <td>471667.0</td>\n",
       "      <td>471667.0</td>\n",
       "      <td>471667.0</td>\n",
       "      <td>475000.0</td>\n",
       "      <td>483333.0</td>\n",
       "      <td>495000.0</td>\n",
       "      <td>510000.0</td>\n",
       "      <td>522917.0</td>\n",
       "      <td>534583.0</td>\n",
       "    </tr>\n",
       "    <tr>\n",
       "      <th>1</th>\n",
       "      <td>Los Angeles-Long Beach-Anaheim</td>\n",
       "      <td>753899</td>\n",
       "      <td>CA</td>\n",
       "      <td>571833.0</td>\n",
       "      <td>570167.0</td>\n",
       "      <td>577498.0</td>\n",
       "      <td>589165.0</td>\n",
       "      <td>602498.0</td>\n",
       "      <td>609667.0</td>\n",
       "      <td>615000.0</td>\n",
       "      <td>...</td>\n",
       "      <td>735667.0</td>\n",
       "      <td>732667.0</td>\n",
       "      <td>728333.0</td>\n",
       "      <td>735000.0</td>\n",
       "      <td>750333.0</td>\n",
       "      <td>775333.0</td>\n",
       "      <td>799333.0</td>\n",
       "      <td>817333.0</td>\n",
       "      <td>825667.0</td>\n",
       "      <td>828333.0</td>\n",
       "    </tr>\n",
       "    <tr>\n",
       "      <th>2</th>\n",
       "      <td>Chicago</td>\n",
       "      <td>394463</td>\n",
       "      <td>IL</td>\n",
       "      <td>211333.0</td>\n",
       "      <td>211333.0</td>\n",
       "      <td>216200.0</td>\n",
       "      <td>224867.0</td>\n",
       "      <td>234833.0</td>\n",
       "      <td>241800.0</td>\n",
       "      <td>243467.0</td>\n",
       "      <td>...</td>\n",
       "      <td>265000.0</td>\n",
       "      <td>263333.0</td>\n",
       "      <td>257592.0</td>\n",
       "      <td>255925.0</td>\n",
       "      <td>259258.0</td>\n",
       "      <td>268333.0</td>\n",
       "      <td>281667.0</td>\n",
       "      <td>290000.0</td>\n",
       "      <td>293667.0</td>\n",
       "      <td>292000.0</td>\n",
       "    </tr>\n",
       "    <tr>\n",
       "      <th>3</th>\n",
       "      <td>Dallas-Fort Worth</td>\n",
       "      <td>394514</td>\n",
       "      <td>TX</td>\n",
       "      <td>236500.0</td>\n",
       "      <td>239000.0</td>\n",
       "      <td>242333.0</td>\n",
       "      <td>249667.0</td>\n",
       "      <td>256667.0</td>\n",
       "      <td>261333.0</td>\n",
       "      <td>261643.0</td>\n",
       "      <td>...</td>\n",
       "      <td>299667.0</td>\n",
       "      <td>300000.0</td>\n",
       "      <td>297998.0</td>\n",
       "      <td>301332.0</td>\n",
       "      <td>307998.0</td>\n",
       "      <td>320667.0</td>\n",
       "      <td>334000.0</td>\n",
       "      <td>345667.0</td>\n",
       "      <td>354568.0</td>\n",
       "      <td>356235.0</td>\n",
       "    </tr>\n",
       "    <tr>\n",
       "      <th>4</th>\n",
       "      <td>Philadelphia</td>\n",
       "      <td>394974</td>\n",
       "      <td>PA</td>\n",
       "      <td>226333.0</td>\n",
       "      <td>221333.0</td>\n",
       "      <td>217667.0</td>\n",
       "      <td>222000.0</td>\n",
       "      <td>231000.0</td>\n",
       "      <td>243633.0</td>\n",
       "      <td>249300.0</td>\n",
       "      <td>...</td>\n",
       "      <td>278974.0</td>\n",
       "      <td>278300.0</td>\n",
       "      <td>275000.0</td>\n",
       "      <td>271167.0</td>\n",
       "      <td>267833.0</td>\n",
       "      <td>272833.0</td>\n",
       "      <td>281200.0</td>\n",
       "      <td>293950.0</td>\n",
       "      <td>302283.0</td>\n",
       "      <td>309417.0</td>\n",
       "    </tr>\n",
       "    <tr>\n",
       "      <th>5</th>\n",
       "      <td>Houston</td>\n",
       "      <td>394692</td>\n",
       "      <td>TX</td>\n",
       "      <td>218333.0</td>\n",
       "      <td>217000.0</td>\n",
       "      <td>217740.0</td>\n",
       "      <td>223574.0</td>\n",
       "      <td>228574.0</td>\n",
       "      <td>231833.0</td>\n",
       "      <td>232667.0</td>\n",
       "      <td>...</td>\n",
       "      <td>264617.0</td>\n",
       "      <td>267708.0</td>\n",
       "      <td>266558.0</td>\n",
       "      <td>268907.0</td>\n",
       "      <td>274857.0</td>\n",
       "      <td>285190.0</td>\n",
       "      <td>294208.0</td>\n",
       "      <td>301667.0</td>\n",
       "      <td>306539.0</td>\n",
       "      <td>307539.0</td>\n",
       "    </tr>\n",
       "    <tr>\n",
       "      <th>6</th>\n",
       "      <td>Washington</td>\n",
       "      <td>395209</td>\n",
       "      <td>DC</td>\n",
       "      <td>378124.0</td>\n",
       "      <td>377791.0</td>\n",
       "      <td>373084.0</td>\n",
       "      <td>381874.0</td>\n",
       "      <td>394540.0</td>\n",
       "      <td>405895.0</td>\n",
       "      <td>408648.0</td>\n",
       "      <td>...</td>\n",
       "      <td>449967.0</td>\n",
       "      <td>447898.0</td>\n",
       "      <td>439564.0</td>\n",
       "      <td>431264.0</td>\n",
       "      <td>436667.0</td>\n",
       "      <td>456667.0</td>\n",
       "      <td>481667.0</td>\n",
       "      <td>495000.0</td>\n",
       "      <td>499667.0</td>\n",
       "      <td>493000.0</td>\n",
       "    </tr>\n",
       "    <tr>\n",
       "      <th>7</th>\n",
       "      <td>Miami-Fort Lauderdale</td>\n",
       "      <td>394856</td>\n",
       "      <td>FL</td>\n",
       "      <td>255000.0</td>\n",
       "      <td>253333.0</td>\n",
       "      <td>252500.0</td>\n",
       "      <td>255867.0</td>\n",
       "      <td>260533.0</td>\n",
       "      <td>268033.0</td>\n",
       "      <td>272000.0</td>\n",
       "      <td>...</td>\n",
       "      <td>330000.0</td>\n",
       "      <td>330000.0</td>\n",
       "      <td>331667.0</td>\n",
       "      <td>335000.0</td>\n",
       "      <td>340000.0</td>\n",
       "      <td>345000.0</td>\n",
       "      <td>351000.0</td>\n",
       "      <td>356750.0</td>\n",
       "      <td>361750.0</td>\n",
       "      <td>365000.0</td>\n",
       "    </tr>\n",
       "    <tr>\n",
       "      <th>8</th>\n",
       "      <td>Atlanta</td>\n",
       "      <td>394347</td>\n",
       "      <td>GA</td>\n",
       "      <td>210667.0</td>\n",
       "      <td>210667.0</td>\n",
       "      <td>211667.0</td>\n",
       "      <td>217000.0</td>\n",
       "      <td>222023.0</td>\n",
       "      <td>225566.0</td>\n",
       "      <td>227566.0</td>\n",
       "      <td>...</td>\n",
       "      <td>284833.0</td>\n",
       "      <td>285000.0</td>\n",
       "      <td>283333.0</td>\n",
       "      <td>284192.0</td>\n",
       "      <td>290858.0</td>\n",
       "      <td>302683.0</td>\n",
       "      <td>315825.0</td>\n",
       "      <td>325908.0</td>\n",
       "      <td>333068.0</td>\n",
       "      <td>333543.0</td>\n",
       "    </tr>\n",
       "    <tr>\n",
       "      <th>9</th>\n",
       "      <td>Boston</td>\n",
       "      <td>394404</td>\n",
       "      <td>MA</td>\n",
       "      <td>398833.0</td>\n",
       "      <td>393833.0</td>\n",
       "      <td>398333.0</td>\n",
       "      <td>401667.0</td>\n",
       "      <td>415000.0</td>\n",
       "      <td>425550.0</td>\n",
       "      <td>434717.0</td>\n",
       "      <td>...</td>\n",
       "      <td>514667.0</td>\n",
       "      <td>511333.0</td>\n",
       "      <td>511333.0</td>\n",
       "      <td>514083.0</td>\n",
       "      <td>521750.0</td>\n",
       "      <td>538417.0</td>\n",
       "      <td>559333.0</td>\n",
       "      <td>583333.0</td>\n",
       "      <td>595000.0</td>\n",
       "      <td>598333.0</td>\n",
       "    </tr>\n",
       "  </tbody>\n",
       "</table>\n",
       "<p>10 rows × 59 columns</p>\n",
       "</div>"
      ],
      "text/plain": [
       "                             City  RegionID StateName  2017-01-31  2017-02-28  \\\n",
       "0                        New York    394913        NY    386000.0    387000.0   \n",
       "1  Los Angeles-Long Beach-Anaheim    753899        CA    571833.0    570167.0   \n",
       "2                         Chicago    394463        IL    211333.0    211333.0   \n",
       "3               Dallas-Fort Worth    394514        TX    236500.0    239000.0   \n",
       "4                    Philadelphia    394974        PA    226333.0    221333.0   \n",
       "5                         Houston    394692        TX    218333.0    217000.0   \n",
       "6                      Washington    395209        DC    378124.0    377791.0   \n",
       "7           Miami-Fort Lauderdale    394856        FL    255000.0    253333.0   \n",
       "8                         Atlanta    394347        GA    210667.0    210667.0   \n",
       "9                          Boston    394404        MA    398833.0    393833.0   \n",
       "\n",
       "   2017-03-31  2017-04-30  2017-05-31  2017-06-30  2017-07-31  ...  \\\n",
       "0    387000.0    390333.0    395000.0    406667.0    420000.0  ...   \n",
       "1    577498.0    589165.0    602498.0    609667.0    615000.0  ...   \n",
       "2    216200.0    224867.0    234833.0    241800.0    243467.0  ...   \n",
       "3    242333.0    249667.0    256667.0    261333.0    261643.0  ...   \n",
       "4    217667.0    222000.0    231000.0    243633.0    249300.0  ...   \n",
       "5    217740.0    223574.0    228574.0    231833.0    232667.0  ...   \n",
       "6    373084.0    381874.0    394540.0    405895.0    408648.0  ...   \n",
       "7    252500.0    255867.0    260533.0    268033.0    272000.0  ...   \n",
       "8    211667.0    217000.0    222023.0    225566.0    227566.0  ...   \n",
       "9    398333.0    401667.0    415000.0    425550.0    434717.0  ...   \n",
       "\n",
       "   2020-11-30  2020-12-31  2021-01-31  2021-02-28  2021-03-31  2021-04-30  \\\n",
       "0    468333.0    471667.0    471667.0    471667.0    475000.0    483333.0   \n",
       "1    735667.0    732667.0    728333.0    735000.0    750333.0    775333.0   \n",
       "2    265000.0    263333.0    257592.0    255925.0    259258.0    268333.0   \n",
       "3    299667.0    300000.0    297998.0    301332.0    307998.0    320667.0   \n",
       "4    278974.0    278300.0    275000.0    271167.0    267833.0    272833.0   \n",
       "5    264617.0    267708.0    266558.0    268907.0    274857.0    285190.0   \n",
       "6    449967.0    447898.0    439564.0    431264.0    436667.0    456667.0   \n",
       "7    330000.0    330000.0    331667.0    335000.0    340000.0    345000.0   \n",
       "8    284833.0    285000.0    283333.0    284192.0    290858.0    302683.0   \n",
       "9    514667.0    511333.0    511333.0    514083.0    521750.0    538417.0   \n",
       "\n",
       "   2021-05-31  2021-06-30  2021-07-31  2021-08-31  \n",
       "0    495000.0    510000.0    522917.0    534583.0  \n",
       "1    799333.0    817333.0    825667.0    828333.0  \n",
       "2    281667.0    290000.0    293667.0    292000.0  \n",
       "3    334000.0    345667.0    354568.0    356235.0  \n",
       "4    281200.0    293950.0    302283.0    309417.0  \n",
       "5    294208.0    301667.0    306539.0    307539.0  \n",
       "6    481667.0    495000.0    499667.0    493000.0  \n",
       "7    351000.0    356750.0    361750.0    365000.0  \n",
       "8    315825.0    325908.0    333068.0    333543.0  \n",
       "9    559333.0    583333.0    595000.0    598333.0  \n",
       "\n",
       "[10 rows x 59 columns]"
      ]
     },
     "execution_count": 23,
     "metadata": {},
     "output_type": "execute_result"
    }
   ],
   "source": [
    "# Import our input dataset\n",
    "median_df = pd.read_csv('Clean_mediansale_price.csv')\n",
    "median_df.head(10)\n"
   ]
  },
  {
   "cell_type": "code",
   "execution_count": 24,
   "id": "41376bf7",
   "metadata": {},
   "outputs": [
    {
     "data": {
      "text/html": [
       "<div>\n",
       "<style scoped>\n",
       "    .dataframe tbody tr th:only-of-type {\n",
       "        vertical-align: middle;\n",
       "    }\n",
       "\n",
       "    .dataframe tbody tr th {\n",
       "        vertical-align: top;\n",
       "    }\n",
       "\n",
       "    .dataframe thead th {\n",
       "        text-align: right;\n",
       "    }\n",
       "</style>\n",
       "<table border=\"1\" class=\"dataframe\">\n",
       "  <thead>\n",
       "    <tr style=\"text-align: right;\">\n",
       "      <th></th>\n",
       "      <th>City</th>\n",
       "      <th>RegionID</th>\n",
       "      <th>StateName</th>\n",
       "      <th>2017-01-31</th>\n",
       "      <th>2017-02-28</th>\n",
       "      <th>2017-03-31</th>\n",
       "      <th>2017-04-30</th>\n",
       "      <th>2017-05-31</th>\n",
       "      <th>2017-06-30</th>\n",
       "      <th>2017-07-31</th>\n",
       "      <th>...</th>\n",
       "      <th>2020-11-30</th>\n",
       "      <th>2020-12-31</th>\n",
       "      <th>2021-01-31</th>\n",
       "      <th>2021-02-28</th>\n",
       "      <th>2021-03-31</th>\n",
       "      <th>2021-04-30</th>\n",
       "      <th>2021-05-31</th>\n",
       "      <th>2021-06-30</th>\n",
       "      <th>2021-07-31</th>\n",
       "      <th>2021-08-31</th>\n",
       "    </tr>\n",
       "  </thead>\n",
       "  <tbody>\n",
       "    <tr>\n",
       "      <th>5</th>\n",
       "      <td>Houston</td>\n",
       "      <td>394692</td>\n",
       "      <td>TX</td>\n",
       "      <td>218333.0</td>\n",
       "      <td>217000.0</td>\n",
       "      <td>217740.0</td>\n",
       "      <td>223574.0</td>\n",
       "      <td>228574.0</td>\n",
       "      <td>231833.0</td>\n",
       "      <td>232667.0</td>\n",
       "      <td>...</td>\n",
       "      <td>264617.0</td>\n",
       "      <td>267708.0</td>\n",
       "      <td>266558.0</td>\n",
       "      <td>268907.0</td>\n",
       "      <td>274857.0</td>\n",
       "      <td>285190.0</td>\n",
       "      <td>294208.0</td>\n",
       "      <td>301667.0</td>\n",
       "      <td>306539.0</td>\n",
       "      <td>307539.0</td>\n",
       "    </tr>\n",
       "  </tbody>\n",
       "</table>\n",
       "<p>1 rows × 59 columns</p>\n",
       "</div>"
      ],
      "text/plain": [
       "      City  RegionID StateName  2017-01-31  2017-02-28  2017-03-31  \\\n",
       "5  Houston    394692        TX    218333.0    217000.0    217740.0   \n",
       "\n",
       "   2017-04-30  2017-05-31  2017-06-30  2017-07-31  ...  2020-11-30  \\\n",
       "5    223574.0    228574.0    231833.0    232667.0  ...    264617.0   \n",
       "\n",
       "   2020-12-31  2021-01-31  2021-02-28  2021-03-31  2021-04-30  2021-05-31  \\\n",
       "5    267708.0    266558.0    268907.0    274857.0    285190.0    294208.0   \n",
       "\n",
       "   2021-06-30  2021-07-31  2021-08-31  \n",
       "5    301667.0    306539.0    307539.0  \n",
       "\n",
       "[1 rows x 59 columns]"
      ]
     },
     "execution_count": 24,
     "metadata": {},
     "output_type": "execute_result"
    }
   ],
   "source": [
    "# median_df['City'] = ['Houston']\n",
    "\n",
    "desired_df = median_df[median_df['City'] == 'Houston']\n",
    "\n",
    "desired_df"
   ]
  },
  {
   "cell_type": "code",
   "execution_count": 25,
   "id": "eb32bbab",
   "metadata": {},
   "outputs": [],
   "source": [
    "columns_to_be_partitioned = []\n",
    "\n",
    "columns_to_be_partitioned.extend(['City', 'RegionID', 'StateName'])\n",
    "date_columns = [column for column in desired_df.columns if '2021' in column]\n",
    "columns_to_be_partitioned.extend(date_columns)\n"
   ]
  },
  {
   "cell_type": "code",
   "execution_count": 26,
   "id": "2856c81a",
   "metadata": {},
   "outputs": [],
   "source": [
    "#years = ['2017', '2018','2019', '2020']"
   ]
  },
  {
   "cell_type": "code",
   "execution_count": 27,
   "id": "2eab646e",
   "metadata": {},
   "outputs": [],
   "source": [
    "#"
   ]
  },
  {
   "cell_type": "code",
   "execution_count": 28,
   "id": "2a208205",
   "metadata": {},
   "outputs": [],
   "source": [
    "#lists['2019']"
   ]
  },
  {
   "cell_type": "code",
   "execution_count": 29,
   "id": "2fa564eb",
   "metadata": {},
   "outputs": [],
   "source": [
    "#median_df[lists['2019'][0]].mean()"
   ]
  },
  {
   "cell_type": "code",
   "execution_count": 30,
   "id": "64a4a716",
   "metadata": {},
   "outputs": [],
   "source": [
    "final_df = desired_df[columns_to_be_partitioned]"
   ]
  },
  {
   "cell_type": "code",
   "execution_count": 31,
   "id": "799cd534",
   "metadata": {},
   "outputs": [
    {
     "data": {
      "text/html": [
       "<div>\n",
       "<style scoped>\n",
       "    .dataframe tbody tr th:only-of-type {\n",
       "        vertical-align: middle;\n",
       "    }\n",
       "\n",
       "    .dataframe tbody tr th {\n",
       "        vertical-align: top;\n",
       "    }\n",
       "\n",
       "    .dataframe thead th {\n",
       "        text-align: right;\n",
       "    }\n",
       "</style>\n",
       "<table border=\"1\" class=\"dataframe\">\n",
       "  <thead>\n",
       "    <tr style=\"text-align: right;\">\n",
       "      <th></th>\n",
       "      <th>City</th>\n",
       "      <th>RegionID</th>\n",
       "      <th>StateName</th>\n",
       "      <th>2021-01-31</th>\n",
       "      <th>2021-02-28</th>\n",
       "      <th>2021-03-31</th>\n",
       "      <th>2021-04-30</th>\n",
       "      <th>2021-05-31</th>\n",
       "      <th>2021-06-30</th>\n",
       "      <th>2021-07-31</th>\n",
       "      <th>2021-08-31</th>\n",
       "    </tr>\n",
       "  </thead>\n",
       "  <tbody>\n",
       "    <tr>\n",
       "      <th>5</th>\n",
       "      <td>Houston</td>\n",
       "      <td>394692</td>\n",
       "      <td>TX</td>\n",
       "      <td>266558.0</td>\n",
       "      <td>268907.0</td>\n",
       "      <td>274857.0</td>\n",
       "      <td>285190.0</td>\n",
       "      <td>294208.0</td>\n",
       "      <td>301667.0</td>\n",
       "      <td>306539.0</td>\n",
       "      <td>307539.0</td>\n",
       "    </tr>\n",
       "  </tbody>\n",
       "</table>\n",
       "</div>"
      ],
      "text/plain": [
       "      City  RegionID StateName  2021-01-31  2021-02-28  2021-03-31  \\\n",
       "5  Houston    394692        TX    266558.0    268907.0    274857.0   \n",
       "\n",
       "   2021-04-30  2021-05-31  2021-06-30  2021-07-31  2021-08-31  \n",
       "5    285190.0    294208.0    301667.0    306539.0    307539.0  "
      ]
     },
     "execution_count": 31,
     "metadata": {},
     "output_type": "execute_result"
    }
   ],
   "source": [
    "final_df"
   ]
  },
  {
   "cell_type": "code",
   "execution_count": 32,
   "id": "b82c0e9c",
   "metadata": {},
   "outputs": [
    {
     "data": {
      "text/html": [
       "<div>\n",
       "<style scoped>\n",
       "    .dataframe tbody tr th:only-of-type {\n",
       "        vertical-align: middle;\n",
       "    }\n",
       "\n",
       "    .dataframe tbody tr th {\n",
       "        vertical-align: top;\n",
       "    }\n",
       "\n",
       "    .dataframe thead th {\n",
       "        text-align: right;\n",
       "    }\n",
       "</style>\n",
       "<table border=\"1\" class=\"dataframe\">\n",
       "  <thead>\n",
       "    <tr style=\"text-align: right;\">\n",
       "      <th></th>\n",
       "      <th>5</th>\n",
       "    </tr>\n",
       "  </thead>\n",
       "  <tbody>\n",
       "    <tr>\n",
       "      <th>City</th>\n",
       "      <td>Houston</td>\n",
       "    </tr>\n",
       "    <tr>\n",
       "      <th>RegionID</th>\n",
       "      <td>394692</td>\n",
       "    </tr>\n",
       "    <tr>\n",
       "      <th>StateName</th>\n",
       "      <td>TX</td>\n",
       "    </tr>\n",
       "    <tr>\n",
       "      <th>2021-01-31</th>\n",
       "      <td>266558.0</td>\n",
       "    </tr>\n",
       "    <tr>\n",
       "      <th>2021-02-28</th>\n",
       "      <td>268907.0</td>\n",
       "    </tr>\n",
       "    <tr>\n",
       "      <th>2021-03-31</th>\n",
       "      <td>274857.0</td>\n",
       "    </tr>\n",
       "    <tr>\n",
       "      <th>2021-04-30</th>\n",
       "      <td>285190.0</td>\n",
       "    </tr>\n",
       "    <tr>\n",
       "      <th>2021-05-31</th>\n",
       "      <td>294208.0</td>\n",
       "    </tr>\n",
       "    <tr>\n",
       "      <th>2021-06-30</th>\n",
       "      <td>301667.0</td>\n",
       "    </tr>\n",
       "    <tr>\n",
       "      <th>2021-07-31</th>\n",
       "      <td>306539.0</td>\n",
       "    </tr>\n",
       "    <tr>\n",
       "      <th>2021-08-31</th>\n",
       "      <td>307539.0</td>\n",
       "    </tr>\n",
       "  </tbody>\n",
       "</table>\n",
       "</div>"
      ],
      "text/plain": [
       "                   5\n",
       "City         Houston\n",
       "RegionID      394692\n",
       "StateName         TX\n",
       "2021-01-31  266558.0\n",
       "2021-02-28  268907.0\n",
       "2021-03-31  274857.0\n",
       "2021-04-30  285190.0\n",
       "2021-05-31  294208.0\n",
       "2021-06-30  301667.0\n",
       "2021-07-31  306539.0\n",
       "2021-08-31  307539.0"
      ]
     },
     "execution_count": 32,
     "metadata": {},
     "output_type": "execute_result"
    }
   ],
   "source": [
    "final_df.transpose()"
   ]
  },
  {
   "cell_type": "code",
   "execution_count": 34,
   "id": "b6f9a548",
   "metadata": {},
   "outputs": [
    {
     "ename": "ValueError",
     "evalue": "Of the four parameters: start, end, periods, and freq, exactly three must be specified",
     "output_type": "error",
     "traceback": [
      "\u001b[1;31m---------------------------------------------------------------------------\u001b[0m",
      "\u001b[1;31mValueError\u001b[0m                                Traceback (most recent call last)",
      "\u001b[1;32m<ipython-input-34-5e77a77087a5>\u001b[0m in \u001b[0;36m<module>\u001b[1;34m\u001b[0m\n\u001b[1;32m----> 1\u001b[1;33m \u001b[0mfinal_dates_df\u001b[0m \u001b[1;33m=\u001b[0m \u001b[0mfinal_df\u001b[0m\u001b[1;33m(\u001b[0m\u001b[0mpd\u001b[0m\u001b[1;33m.\u001b[0m\u001b[0mdate_range\u001b[0m\u001b[1;33m(\u001b[0m\u001b[1;34m'2018-1-1'\u001b[0m\u001b[1;33m)\u001b[0m\u001b[1;33m)\u001b[0m\u001b[1;33m\u001b[0m\u001b[1;33m\u001b[0m\u001b[0m\n\u001b[0m\u001b[0;32m      2\u001b[0m \u001b[0mfinal_dates_df\u001b[0m \u001b[1;33m=\u001b[0m \u001b[0mpd\u001b[0m\u001b[1;33m.\u001b[0m\u001b[0mDataFrame\u001b[0m\u001b[1;33m(\u001b[0m\u001b[0mdict\u001b[0m\u001b[1;33m(\u001b[0m\u001b[0mdate_given\u001b[0m \u001b[1;33m=\u001b[0m \u001b[0mdate1\u001b[0m\u001b[1;33m)\u001b[0m\u001b[1;33m)\u001b[0m\u001b[1;33m\u001b[0m\u001b[1;33m\u001b[0m\u001b[0m\n\u001b[0;32m      3\u001b[0m \u001b[1;33m\u001b[0m\u001b[0m\n\u001b[0;32m      4\u001b[0m \u001b[0mfinal_dates_df\u001b[0m\u001b[1;33m[\u001b[0m\u001b[1;34m'month_of_date'\u001b[0m\u001b[1;33m]\u001b[0m \u001b[1;33m=\u001b[0m \u001b[0mfinal_dates_df\u001b[0m\u001b[1;33m[\u001b[0m\u001b[1;34m'date_given'\u001b[0m\u001b[1;33m]\u001b[0m\u001b[1;33m.\u001b[0m\u001b[0mdt\u001b[0m\u001b[1;33m.\u001b[0m\u001b[0mmonth\u001b[0m\u001b[1;33m\u001b[0m\u001b[1;33m\u001b[0m\u001b[0m\n\u001b[0;32m      5\u001b[0m \u001b[0mfinal_dates_df\u001b[0m\u001b[1;33m\u001b[0m\u001b[1;33m\u001b[0m\u001b[0m\n",
      "\u001b[1;32m~\\anaconda3\\envs\\mlenv\\lib\\site-packages\\pandas\\core\\indexes\\datetimes.py\u001b[0m in \u001b[0;36mdate_range\u001b[1;34m(start, end, periods, freq, tz, normalize, name, closed, **kwargs)\u001b[0m\n\u001b[0;32m   1075\u001b[0m         \u001b[0mnormalize\u001b[0m\u001b[1;33m=\u001b[0m\u001b[0mnormalize\u001b[0m\u001b[1;33m,\u001b[0m\u001b[1;33m\u001b[0m\u001b[1;33m\u001b[0m\u001b[0m\n\u001b[0;32m   1076\u001b[0m         \u001b[0mclosed\u001b[0m\u001b[1;33m=\u001b[0m\u001b[0mclosed\u001b[0m\u001b[1;33m,\u001b[0m\u001b[1;33m\u001b[0m\u001b[1;33m\u001b[0m\u001b[0m\n\u001b[1;32m-> 1077\u001b[1;33m         \u001b[1;33m**\u001b[0m\u001b[0mkwargs\u001b[0m\u001b[1;33m,\u001b[0m\u001b[1;33m\u001b[0m\u001b[1;33m\u001b[0m\u001b[0m\n\u001b[0m\u001b[0;32m   1078\u001b[0m     )\n\u001b[0;32m   1079\u001b[0m     \u001b[1;32mreturn\u001b[0m \u001b[0mDatetimeIndex\u001b[0m\u001b[1;33m.\u001b[0m\u001b[0m_simple_new\u001b[0m\u001b[1;33m(\u001b[0m\u001b[0mdtarr\u001b[0m\u001b[1;33m,\u001b[0m \u001b[0mname\u001b[0m\u001b[1;33m=\u001b[0m\u001b[0mname\u001b[0m\u001b[1;33m)\u001b[0m\u001b[1;33m\u001b[0m\u001b[1;33m\u001b[0m\u001b[0m\n",
      "\u001b[1;32m~\\anaconda3\\envs\\mlenv\\lib\\site-packages\\pandas\\core\\arrays\\datetimes.py\u001b[0m in \u001b[0;36m_generate_range\u001b[1;34m(cls, start, end, periods, freq, tz, normalize, ambiguous, nonexistent, closed)\u001b[0m\n\u001b[0;32m    372\u001b[0m         \u001b[1;32mif\u001b[0m \u001b[0mcom\u001b[0m\u001b[1;33m.\u001b[0m\u001b[0mcount_not_none\u001b[0m\u001b[1;33m(\u001b[0m\u001b[0mstart\u001b[0m\u001b[1;33m,\u001b[0m \u001b[0mend\u001b[0m\u001b[1;33m,\u001b[0m \u001b[0mperiods\u001b[0m\u001b[1;33m,\u001b[0m \u001b[0mfreq\u001b[0m\u001b[1;33m)\u001b[0m \u001b[1;33m!=\u001b[0m \u001b[1;36m3\u001b[0m\u001b[1;33m:\u001b[0m\u001b[1;33m\u001b[0m\u001b[1;33m\u001b[0m\u001b[0m\n\u001b[0;32m    373\u001b[0m             raise ValueError(\n\u001b[1;32m--> 374\u001b[1;33m                 \u001b[1;34m\"Of the four parameters: start, end, periods, \"\u001b[0m\u001b[1;33m\u001b[0m\u001b[1;33m\u001b[0m\u001b[0m\n\u001b[0m\u001b[0;32m    375\u001b[0m                 \u001b[1;34m\"and freq, exactly three must be specified\"\u001b[0m\u001b[1;33m\u001b[0m\u001b[1;33m\u001b[0m\u001b[0m\n\u001b[0;32m    376\u001b[0m             )\n",
      "\u001b[1;31mValueError\u001b[0m: Of the four parameters: start, end, periods, and freq, exactly three must be specified"
     ]
    }
   ],
   "source": [
    "final_dates_df = final_df(pd.date_range('2018-1-1'))\n",
    "final_dates_df = pd.DataFrame(dict(date_given = date1))\n",
    "  \n",
    "final_dates_df['month_of_date'] = final_dates_df['date_given'].dt.month\n",
    "final_dates_df"
   ]
  },
  {
   "cell_type": "code",
   "execution_count": null,
   "id": "892baacd",
   "metadata": {},
   "outputs": [],
   "source": [
    "x_axis= \n",
    "y_axis= \n"
   ]
  },
  {
   "cell_type": "code",
   "execution_count": 20,
   "id": "ca9966da",
   "metadata": {},
   "outputs": [
    {
     "ename": "TypeError",
     "evalue": "scatter() missing 1 required positional argument: 'y'",
     "output_type": "error",
     "traceback": [
      "\u001b[1;31m---------------------------------------------------------------------------\u001b[0m",
      "\u001b[1;31mTypeError\u001b[0m                                 Traceback (most recent call last)",
      "\u001b[1;32m<ipython-input-20-f8ce22965105>\u001b[0m in \u001b[0;36m<module>\u001b[1;34m\u001b[0m\n\u001b[1;32m----> 1\u001b[1;33m \u001b[0mplt\u001b[0m\u001b[1;33m.\u001b[0m\u001b[0mscatter\u001b[0m\u001b[1;33m(\u001b[0m\u001b[0mfinal_df\u001b[0m\u001b[1;33m)\u001b[0m\u001b[1;33m\u001b[0m\u001b[1;33m\u001b[0m\u001b[0m\n\u001b[0m\u001b[0;32m      2\u001b[0m \u001b[0mplt\u001b[0m\u001b[1;33m.\u001b[0m\u001b[0mxlabel\u001b[0m\u001b[1;33m(\u001b[0m\u001b[1;34m'Date'\u001b[0m\u001b[1;33m)\u001b[0m\u001b[1;33m\u001b[0m\u001b[1;33m\u001b[0m\u001b[0m\n\u001b[0;32m      3\u001b[0m \u001b[0mplt\u001b[0m\u001b[1;33m.\u001b[0m\u001b[0mylabel\u001b[0m\u001b[1;33m(\u001b[0m\u001b[1;34m'median price'\u001b[0m\u001b[1;33m)\u001b[0m\u001b[1;33m\u001b[0m\u001b[1;33m\u001b[0m\u001b[0m\n\u001b[0;32m      4\u001b[0m \u001b[0mplt\u001b[0m\u001b[1;33m.\u001b[0m\u001b[0mshow\u001b[0m\u001b[1;33m(\u001b[0m\u001b[1;33m)\u001b[0m\u001b[1;33m\u001b[0m\u001b[1;33m\u001b[0m\u001b[0m\n",
      "\u001b[1;31mTypeError\u001b[0m: scatter() missing 1 required positional argument: 'y'"
     ]
    }
   ],
   "source": [
    "plt.scatter('final_df')\n",
    "plt.xlabel('Date')\n",
    "plt.ylabel('median price')\n",
    "plt.show()"
   ]
  },
  {
   "cell_type": "code",
   "execution_count": null,
   "id": "ed37bf4c",
   "metadata": {},
   "outputs": [],
   "source": []
  },
  {
   "cell_type": "code",
   "execution_count": 46,
   "id": "1619e439",
   "metadata": {},
   "outputs": [],
   "source": [
    "model = LinearRegression()"
   ]
  },
  {
   "cell_type": "code",
   "execution_count": null,
   "id": "4b84f3f7",
   "metadata": {},
   "outputs": [],
   "source": [
    "model.fit(X, y)"
   ]
  },
  {
   "cell_type": "code",
   "execution_count": 11,
   "id": "9d4c0ef9",
   "metadata": {},
   "outputs": [
    {
     "ename": "NameError",
     "evalue": "name 'X' is not defined",
     "output_type": "error",
     "traceback": [
      "\u001b[1;31m---------------------------------------------------------------------------\u001b[0m",
      "\u001b[1;31mNameError\u001b[0m                                 Traceback (most recent call last)",
      "\u001b[1;32m<ipython-input-11-7534d9365e17>\u001b[0m in \u001b[0;36m<module>\u001b[1;34m\u001b[0m\n\u001b[1;32m----> 1\u001b[1;33m \u001b[0my_pred\u001b[0m \u001b[1;33m=\u001b[0m \u001b[0mmodel\u001b[0m\u001b[1;33m.\u001b[0m\u001b[0mpredict\u001b[0m\u001b[1;33m(\u001b[0m\u001b[0mX\u001b[0m\u001b[1;33m)\u001b[0m\u001b[1;33m\u001b[0m\u001b[1;33m\u001b[0m\u001b[0m\n\u001b[0m\u001b[0;32m      2\u001b[0m \u001b[0mprint\u001b[0m\u001b[1;33m(\u001b[0m\u001b[0my_pred\u001b[0m\u001b[1;33m.\u001b[0m\u001b[0mshape\u001b[0m\u001b[1;33m)\u001b[0m\u001b[1;33m\u001b[0m\u001b[1;33m\u001b[0m\u001b[0m\n",
      "\u001b[1;31mNameError\u001b[0m: name 'X' is not defined"
     ]
    }
   ],
   "source": [
    "y_pred = model.predict(X)\n",
    "print(y_pred.shape)"
   ]
  },
  {
   "cell_type": "code",
   "execution_count": 12,
   "id": "b925f6fa",
   "metadata": {},
   "outputs": [
    {
     "ename": "NameError",
     "evalue": "name 'X' is not defined",
     "output_type": "error",
     "traceback": [
      "\u001b[1;31m---------------------------------------------------------------------------\u001b[0m",
      "\u001b[1;31mNameError\u001b[0m                                 Traceback (most recent call last)",
      "\u001b[1;32m<ipython-input-12-ece45db63f93>\u001b[0m in \u001b[0;36m<module>\u001b[1;34m\u001b[0m\n\u001b[1;32m----> 1\u001b[1;33m \u001b[0mplt\u001b[0m\u001b[1;33m.\u001b[0m\u001b[0mscatter\u001b[0m\u001b[1;33m(\u001b[0m\u001b[0mX\u001b[0m\u001b[1;33m,\u001b[0m \u001b[0my\u001b[0m\u001b[1;33m)\u001b[0m\u001b[1;33m\u001b[0m\u001b[1;33m\u001b[0m\u001b[0m\n\u001b[0m\u001b[0;32m      2\u001b[0m \u001b[0mplt\u001b[0m\u001b[1;33m.\u001b[0m\u001b[0mplot\u001b[0m\u001b[1;33m(\u001b[0m\u001b[0mX\u001b[0m\u001b[1;33m,\u001b[0m \u001b[0my_pred\u001b[0m\u001b[1;33m,\u001b[0m \u001b[0mcolor\u001b[0m\u001b[1;33m=\u001b[0m\u001b[1;34m'red'\u001b[0m\u001b[1;33m)\u001b[0m\u001b[1;33m\u001b[0m\u001b[1;33m\u001b[0m\u001b[0m\n\u001b[0;32m      3\u001b[0m \u001b[0mplt\u001b[0m\u001b[1;33m.\u001b[0m\u001b[0mshow\u001b[0m\u001b[1;33m(\u001b[0m\u001b[1;33m)\u001b[0m\u001b[1;33m\u001b[0m\u001b[1;33m\u001b[0m\u001b[0m\n",
      "\u001b[1;31mNameError\u001b[0m: name 'X' is not defined"
     ]
    }
   ],
   "source": [
    "plt.scatter(X, y)\n",
    "plt.plot(X, y_pred, color='red')\n",
    "plt.show()"
   ]
  },
  {
   "cell_type": "code",
   "execution_count": 13,
   "id": "0090bd75",
   "metadata": {},
   "outputs": [
    {
     "ename": "AttributeError",
     "evalue": "'LinearRegression' object has no attribute 'coef_'",
     "output_type": "error",
     "traceback": [
      "\u001b[1;31m---------------------------------------------------------------------------\u001b[0m",
      "\u001b[1;31mAttributeError\u001b[0m                            Traceback (most recent call last)",
      "\u001b[1;32m<ipython-input-13-d86d7ea8a4f6>\u001b[0m in \u001b[0;36m<module>\u001b[1;34m\u001b[0m\n\u001b[1;32m----> 1\u001b[1;33m \u001b[0mprint\u001b[0m\u001b[1;33m(\u001b[0m\u001b[0mmodel\u001b[0m\u001b[1;33m.\u001b[0m\u001b[0mcoef_\u001b[0m\u001b[1;33m)\u001b[0m\u001b[1;33m\u001b[0m\u001b[1;33m\u001b[0m\u001b[0m\n\u001b[0m\u001b[0;32m      2\u001b[0m \u001b[0mprint\u001b[0m\u001b[1;33m(\u001b[0m\u001b[0mmodel\u001b[0m\u001b[1;33m.\u001b[0m\u001b[0mintercept_\u001b[0m\u001b[1;33m)\u001b[0m\u001b[1;33m\u001b[0m\u001b[1;33m\u001b[0m\u001b[0m\n",
      "\u001b[1;31mAttributeError\u001b[0m: 'LinearRegression' object has no attribute 'coef_'"
     ]
    }
   ],
   "source": [
    "print(model.coef_)\n",
    "print(model.intercept_)"
   ]
  },
  {
   "cell_type": "code",
   "execution_count": 14,
   "id": "3a19ace3",
   "metadata": {},
   "outputs": [],
   "source": [
    "model = LinearRegression()"
   ]
  },
  {
   "cell_type": "code",
   "execution_count": 15,
   "id": "f0c0746e",
   "metadata": {},
   "outputs": [
    {
     "ename": "NameError",
     "evalue": "name 'X' is not defined",
     "output_type": "error",
     "traceback": [
      "\u001b[1;31m---------------------------------------------------------------------------\u001b[0m",
      "\u001b[1;31mNameError\u001b[0m                                 Traceback (most recent call last)",
      "\u001b[1;32m<ipython-input-15-4c1a2828403e>\u001b[0m in \u001b[0;36m<module>\u001b[1;34m\u001b[0m\n\u001b[1;32m----> 1\u001b[1;33m \u001b[0mmodel\u001b[0m\u001b[1;33m.\u001b[0m\u001b[0mfit\u001b[0m\u001b[1;33m(\u001b[0m\u001b[0mX\u001b[0m\u001b[1;33m,\u001b[0m\u001b[0my\u001b[0m\u001b[1;33m)\u001b[0m\u001b[1;33m\u001b[0m\u001b[1;33m\u001b[0m\u001b[0m\n\u001b[0m",
      "\u001b[1;31mNameError\u001b[0m: name 'X' is not defined"
     ]
    }
   ],
   "source": [
    "model.fit(X,y)"
   ]
  },
  {
   "cell_type": "code",
   "execution_count": 16,
   "id": "f4353d60",
   "metadata": {},
   "outputs": [
    {
     "ename": "NameError",
     "evalue": "name 'X' is not defined",
     "output_type": "error",
     "traceback": [
      "\u001b[1;31m---------------------------------------------------------------------------\u001b[0m",
      "\u001b[1;31mNameError\u001b[0m                                 Traceback (most recent call last)",
      "\u001b[1;32m<ipython-input-16-0ef0a58be7e5>\u001b[0m in \u001b[0;36m<module>\u001b[1;34m\u001b[0m\n\u001b[1;32m----> 1\u001b[1;33m \u001b[0my_pred\u001b[0m \u001b[1;33m=\u001b[0m \u001b[0mmodel\u001b[0m\u001b[1;33m.\u001b[0m\u001b[0mpredict\u001b[0m\u001b[1;33m(\u001b[0m\u001b[0mX\u001b[0m\u001b[1;33m)\u001b[0m\u001b[1;33m\u001b[0m\u001b[1;33m\u001b[0m\u001b[0m\n\u001b[0m",
      "\u001b[1;31mNameError\u001b[0m: name 'X' is not defined"
     ]
    }
   ],
   "source": [
    "y_pred = model.predict(X)"
   ]
  },
  {
   "cell_type": "code",
   "execution_count": null,
   "id": "6a23cee7",
   "metadata": {},
   "outputs": [],
   "source": []
  },
  {
   "cell_type": "code",
   "execution_count": 17,
   "id": "f7dcc426",
   "metadata": {},
   "outputs": [
    {
     "ename": "NameError",
     "evalue": "name 'X' is not defined",
     "output_type": "error",
     "traceback": [
      "\u001b[1;31m---------------------------------------------------------------------------\u001b[0m",
      "\u001b[1;31mNameError\u001b[0m                                 Traceback (most recent call last)",
      "\u001b[1;32m<ipython-input-17-95f5de41d01d>\u001b[0m in \u001b[0;36m<module>\u001b[1;34m\u001b[0m\n\u001b[0;32m      1\u001b[0m \u001b[1;32mfrom\u001b[0m \u001b[0msklearn\u001b[0m\u001b[1;33m.\u001b[0m\u001b[0mmodel_selection\u001b[0m \u001b[1;32mimport\u001b[0m \u001b[0mtrain_test_split\u001b[0m\u001b[1;33m\u001b[0m\u001b[1;33m\u001b[0m\u001b[0m\n\u001b[0;32m      2\u001b[0m \u001b[1;33m\u001b[0m\u001b[0m\n\u001b[1;32m----> 3\u001b[1;33m X_train, X_test, y_train, y_test = train_test_split(X, \n\u001b[0m\u001b[0;32m      4\u001b[0m                                                     \u001b[0my\u001b[0m\u001b[1;33m,\u001b[0m\u001b[1;33m\u001b[0m\u001b[1;33m\u001b[0m\u001b[0m\n\u001b[0;32m      5\u001b[0m                                                     \u001b[0mrandom_state\u001b[0m\u001b[1;33m=\u001b[0m\u001b[1;36m1\u001b[0m\u001b[1;33m,\u001b[0m\u001b[1;33m\u001b[0m\u001b[1;33m\u001b[0m\u001b[0m\n",
      "\u001b[1;31mNameError\u001b[0m: name 'X' is not defined"
     ]
    }
   ],
   "source": [
    "from sklearn.model_selection import train_test_split\n",
    "\n",
    "X_train, X_test, y_train, y_test = train_test_split(X, \n",
    "                                                    y, \n",
    "                                                    random_state=1, \n",
    "                                                    stratify=y)\n",
    "X_train.shape"
   ]
  },
  {
   "cell_type": "code",
   "execution_count": 18,
   "id": "1c4ca932",
   "metadata": {},
   "outputs": [],
   "source": [
    "from sklearn.linear_model import LogisticRegression\n",
    "classifier = LogisticRegression(solver='lbfgs',\n",
    "                                max_iter=200,\n",
    "                                random_state=1)"
   ]
  },
  {
   "cell_type": "code",
   "execution_count": 19,
   "id": "be22baeb",
   "metadata": {},
   "outputs": [
    {
     "ename": "NameError",
     "evalue": "name 'X_train' is not defined",
     "output_type": "error",
     "traceback": [
      "\u001b[1;31m---------------------------------------------------------------------------\u001b[0m",
      "\u001b[1;31mNameError\u001b[0m                                 Traceback (most recent call last)",
      "\u001b[1;32m<ipython-input-19-f44724590846>\u001b[0m in \u001b[0;36m<module>\u001b[1;34m\u001b[0m\n\u001b[1;32m----> 1\u001b[1;33m \u001b[0mclassifier\u001b[0m\u001b[1;33m.\u001b[0m\u001b[0mfit\u001b[0m\u001b[1;33m(\u001b[0m\u001b[0mX_train\u001b[0m\u001b[1;33m,\u001b[0m \u001b[0my_train\u001b[0m\u001b[1;33m)\u001b[0m\u001b[1;33m\u001b[0m\u001b[1;33m\u001b[0m\u001b[0m\n\u001b[0m",
      "\u001b[1;31mNameError\u001b[0m: name 'X_train' is not defined"
     ]
    }
   ],
   "source": [
    "classifier.fit(X_train, y_train)"
   ]
  },
  {
   "cell_type": "code",
   "execution_count": 20,
   "id": "c624cefd",
   "metadata": {},
   "outputs": [
    {
     "ename": "NameError",
     "evalue": "name 'X_test' is not defined",
     "output_type": "error",
     "traceback": [
      "\u001b[1;31m---------------------------------------------------------------------------\u001b[0m",
      "\u001b[1;31mNameError\u001b[0m                                 Traceback (most recent call last)",
      "\u001b[1;32m<ipython-input-20-ffecec656628>\u001b[0m in \u001b[0;36m<module>\u001b[1;34m\u001b[0m\n\u001b[1;32m----> 1\u001b[1;33m \u001b[0my_pred\u001b[0m \u001b[1;33m=\u001b[0m \u001b[0mclassifier\u001b[0m\u001b[1;33m.\u001b[0m\u001b[0mpredict\u001b[0m\u001b[1;33m(\u001b[0m\u001b[0mX_test\u001b[0m\u001b[1;33m)\u001b[0m\u001b[1;33m\u001b[0m\u001b[1;33m\u001b[0m\u001b[0m\n\u001b[0m\u001b[0;32m      2\u001b[0m \u001b[0mresults\u001b[0m \u001b[1;33m=\u001b[0m \u001b[0mpd\u001b[0m\u001b[1;33m.\u001b[0m\u001b[0mDataFrame\u001b[0m\u001b[1;33m(\u001b[0m\u001b[1;33m{\u001b[0m\u001b[1;34m\"Prediction\"\u001b[0m\u001b[1;33m:\u001b[0m \u001b[0my_pred\u001b[0m\u001b[1;33m,\u001b[0m \u001b[1;34m\"Actual\"\u001b[0m\u001b[1;33m:\u001b[0m \u001b[0my_test\u001b[0m\u001b[1;33m}\u001b[0m\u001b[1;33m)\u001b[0m\u001b[1;33m.\u001b[0m\u001b[0mreset_index\u001b[0m\u001b[1;33m(\u001b[0m\u001b[0mdrop\u001b[0m\u001b[1;33m=\u001b[0m\u001b[1;32mTrue\u001b[0m\u001b[1;33m)\u001b[0m\u001b[1;33m\u001b[0m\u001b[1;33m\u001b[0m\u001b[0m\n\u001b[0;32m      3\u001b[0m \u001b[0mresults\u001b[0m\u001b[1;33m.\u001b[0m\u001b[0mhead\u001b[0m\u001b[1;33m(\u001b[0m\u001b[1;36m20\u001b[0m\u001b[1;33m)\u001b[0m\u001b[1;33m\u001b[0m\u001b[1;33m\u001b[0m\u001b[0m\n",
      "\u001b[1;31mNameError\u001b[0m: name 'X_test' is not defined"
     ]
    }
   ],
   "source": [
    "y_pred = classifier.predict(X_test)\n",
    "results = pd.DataFrame({\"Prediction\": y_pred, \"Actual\": y_test}).reset_index(drop=True)\n",
    "results.head(20)"
   ]
  },
  {
   "cell_type": "code",
   "execution_count": 21,
   "id": "28abcbaf",
   "metadata": {},
   "outputs": [
    {
     "ename": "NameError",
     "evalue": "name 'y_test' is not defined",
     "output_type": "error",
     "traceback": [
      "\u001b[1;31m---------------------------------------------------------------------------\u001b[0m",
      "\u001b[1;31mNameError\u001b[0m                                 Traceback (most recent call last)",
      "\u001b[1;32m<ipython-input-21-bf5c8bfa512c>\u001b[0m in \u001b[0;36m<module>\u001b[1;34m\u001b[0m\n\u001b[0;32m      1\u001b[0m \u001b[1;32mfrom\u001b[0m \u001b[0msklearn\u001b[0m\u001b[1;33m.\u001b[0m\u001b[0mmetrics\u001b[0m \u001b[1;32mimport\u001b[0m \u001b[0maccuracy_score\u001b[0m\u001b[1;33m\u001b[0m\u001b[1;33m\u001b[0m\u001b[0m\n\u001b[1;32m----> 2\u001b[1;33m \u001b[0mprint\u001b[0m\u001b[1;33m(\u001b[0m\u001b[0maccuracy_score\u001b[0m\u001b[1;33m(\u001b[0m\u001b[0my_test\u001b[0m\u001b[1;33m,\u001b[0m \u001b[0my_pred\u001b[0m\u001b[1;33m)\u001b[0m\u001b[1;33m)\u001b[0m\u001b[1;33m\u001b[0m\u001b[1;33m\u001b[0m\u001b[0m\n\u001b[0m",
      "\u001b[1;31mNameError\u001b[0m: name 'y_test' is not defined"
     ]
    }
   ],
   "source": [
    "from sklearn.metrics import accuracy_score\n",
    "print(accuracy_score(y_test, y_pred))"
   ]
  },
  {
   "cell_type": "code",
   "execution_count": null,
   "id": "44e659fe",
   "metadata": {},
   "outputs": [],
   "source": []
  }
 ],
 "metadata": {
  "kernelspec": {
   "display_name": "mlenv",
   "language": "python",
   "name": "mlenv"
  },
  "language_info": {
   "codemirror_mode": {
    "name": "ipython",
    "version": 3
   },
   "file_extension": ".py",
   "mimetype": "text/x-python",
   "name": "python",
   "nbconvert_exporter": "python",
   "pygments_lexer": "ipython3",
   "version": "3.7.10"
  }
 },
 "nbformat": 4,
 "nbformat_minor": 5
}
